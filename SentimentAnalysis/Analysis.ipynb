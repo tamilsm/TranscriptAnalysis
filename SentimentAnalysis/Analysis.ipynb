{
 "cells": [
  {
   "cell_type": "code",
   "execution_count": null,
   "id": "9c136ccd-e38f-47e6-9afe-2355ff74cfb9",
   "metadata": {},
   "outputs": [],
   "source": [
    "# Imports\n",
    "import requests\n",
    "import json\n",
    "import csv\n",
    "import psycopg2\n",
    "import time\n",
    "from dotenv import dotenv_values\n",
    "from openai import AzureOpenAI"
   ]
  },
  {
   "cell_type": "code",
   "execution_count": null,
   "id": "bfd6fee5-c7ab-4b19-83a2-15b360a9647e",
   "metadata": {},
   "outputs": [],
   "source": [
    "config = dotenv_values(\"../.env\")"
   ]
  },
  {
   "cell_type": "code",
   "execution_count": null,
   "id": "75d1d2e8-bc9d-4e3b-aabf-186dc13830fb",
   "metadata": {},
   "outputs": [],
   "source": [
    "# Database connection settings\n",
    "DB_HOST = config['DB_HOST']\n",
    "DB_PORT = config['DB_PORT']\n",
    "DB_NAME = config['DB_NAME']\n",
    "DB_USER = config['DB_USER']\n",
    "DB_PASS = config['DB_PASS']"
   ]
  },
  {
   "cell_type": "code",
   "execution_count": null,
   "id": "efbb61b1-cf80-484d-89b5-317a82d2aac7",
   "metadata": {},
   "outputs": [],
   "source": [
    "# Example row data\n",
    "# conversation_data = {\n",
    "#     \"conversationID\": \"36eba05a-aad9-41d4-8bff-037b2ea1bf78\",\n",
    "#     \"transcript\": \"Customer: Hi, I need help with my account. Bot: Sure, I can help!\",\n",
    "#     \"customer_sentiment\": \"positive\",\n",
    "#     \"dominant_customer_emotion\": \"happy\",\n",
    "#     \"customer_sentiment_confidence\": 0.9231,\n",
    "#     \"date\": \"30/01/2025\",\n",
    "#     \"bot_summary\": \"Bot handled login issues.\",\n",
    "#     \"agent_summary\": None,\n",
    "#     \"notes\": \"Customer seemed satisfied.\",\n",
    "#     \"topics\": [\"account\", \"login\"],\n",
    "#     \"keywords\": [\"help\", \"account\", \"login\"]\n",
    "# }\n",
    "\n",
    "# Insert query\n",
    "insert_query = \"\"\"\n",
    "    INSERT INTO conversations (\n",
    "        conversationID,\n",
    "        userID,\n",
    "        transcript,\n",
    "        customer_sentiment,\n",
    "        dominant_customer_emotion,\n",
    "        customer_sentiment_confidence,\n",
    "        date,\n",
    "        notes,\n",
    "        topics,\n",
    "        keywords\n",
    "    )\n",
    "    VALUES (\n",
    "        %(conversationID)s,\n",
    "        %(userID)s,\n",
    "        %(transcript)s,\n",
    "        %(customer_sentiment)s,\n",
    "        %(dominant_customer_emotion)s,\n",
    "        %(customer_sentiment_confidence)s,\n",
    "        %(date)s,\n",
    "        %(notes)s,\n",
    "        %(topics)s,\n",
    "        %(keywords)s\n",
    "    )\n",
    "\"\"\""
   ]
  },
  {
   "cell_type": "code",
   "execution_count": null,
   "id": "2f6f4c21-3aaa-4a3b-a379-fed72d1dfee0",
   "metadata": {},
   "outputs": [],
   "source": [
    "# Load transcripts\n",
    "def load_transactions_csv():\n",
    "    with open(\"transcripts.csv\", mode='r', newline='', encoding='utf-8') as file:\n",
    "        reader = csv.DictReader(file, delimiter='\\t')\n",
    "        contents = []\n",
    "        for row in reader:\n",
    "            contents.append(row)\n",
    "    return contents\n",
    "\n",
    "transcripts = load_transactions_csv()"
   ]
  },
  {
   "cell_type": "code",
   "execution_count": null,
   "id": "6beaaf36-446b-46c4-bba5-89e72a30798b",
   "metadata": {},
   "outputs": [],
   "source": [
    "# Load system prompt form instructions.md file\n",
    "with open(\"instructions.md\", mode='r', newline='', encoding='utf-8') as file:\n",
    "    system_prompt = file.read().strip()"
   ]
  },
  {
   "cell_type": "code",
   "execution_count": null,
   "id": "316f6696-fd4e-4295-956b-7b819f24cb04",
   "metadata": {},
   "outputs": [],
   "source": [
    "# Create OpenAI Client\n",
    "client = AzureOpenAI(\n",
    "    # https://learn.microsoft.com/azure/ai-services/openai/reference#rest-api-versioning\n",
    "    api_version=config[\"AZURE_OPENAI_VERSION\"],\n",
    "    api_key=config[\"AZURE_OPENAI_API_KEY\"],\n",
    "    # https://learn.microsoft.com/azure/cognitive-services/openai/how-to/create-resource?pivots=web-portal#create-a-resource\n",
    "    azure_endpoint=config[\"AZURE_OPENAI_BASE_URL\"],\n",
    ")\n",
    "\n",
    "# Function to call Azure GenAI Model and get analysis on the transcript\n",
    "def get_analytics(transcript):\n",
    "    try:\n",
    "        completion = client.chat.completions.create(\n",
    "            model=config[\"AZURE_OPENAI_MODEL_NAME\"],\n",
    "            messages=[\n",
    "                {\n",
    "                    \"role\": \"system\",\n",
    "                    \"content\": system_prompt\n",
    "                },\n",
    "                {\n",
    "                    \"role\": \"user\",\n",
    "                    \"content\": transcript,\n",
    "                },\n",
    "            ],\n",
    "        )\n",
    "        data = completion.to_json()\n",
    "        analysis_str = json.loads(data)['choices'][0]['message']['content']\n",
    "        return json.loads(analysis_str)\n",
    "    \n",
    "    except requests.exceptions.RequestException as e:\n",
    "        print(\"Error:\", e)"
   ]
  },
  {
   "cell_type": "code",
   "execution_count": null,
   "id": "c6c02f2f-ec99-417e-b293-7c2a6bd4b3d9",
   "metadata": {},
   "outputs": [],
   "source": [
    "def write_to_table(data):\n",
    "    # Connect to PostgreSQL\n",
    "    conn = psycopg2.connect(\n",
    "        host=DB_HOST,\n",
    "        port=DB_PORT,\n",
    "        dbname=DB_NAME,\n",
    "        user=DB_USER,\n",
    "        password=DB_PASS\n",
    "    )\n",
    "    cur = conn.cursor()\n",
    "    \n",
    "    # Execute insert\n",
    "    cur.execute(insert_query, data)\n",
    "    conn.commit()\n",
    "    \n",
    "    print(\"Row inserted successfully!\")\n",
    "    \n",
    "    # Clean up\n",
    "    cur.close()\n",
    "    conn.close()"
   ]
  },
  {
   "cell_type": "code",
   "execution_count": null,
   "id": "d46ca0c2-6635-4b05-9603-2bd1c9fcf981",
   "metadata": {},
   "outputs": [],
   "source": [
    "# For each transcript, call GenAI and write analysis results to database\n",
    "for idx, trans in enumerate(transcripts):\n",
    "    completion = get_analytics(transcripts[idx]['transcript'])\n",
    "\n",
    "    print(completion['overall']['dominant_customer_emotion'])\n",
    "\n",
    "    conversation_data = {\n",
    "        \"conversationID\": transcripts[idx]['conversationId'],\n",
    "        \"userID\": transcripts[idx]['userId'],\n",
    "        \"transcript\": transcripts[idx]['transcript'],\n",
    "        \"customer_sentiment\": completion['overall']['customer_sentiment'],\n",
    "        \"dominant_customer_emotion\": completion['overall']['dominant_customer_emotion'],\n",
    "        \"customer_sentiment_confidence\": completion['overall']['customer_sentiment_confidence'],\n",
    "        \"date\": transcripts[idx]['date'],\n",
    "        \"notes\": completion['notes'],\n",
    "        \"topics\": [c[\"label\"] for c in completion['topics']],\n",
    "        \"keywords\": [keyword for topic in completion['topics']for keyword in topic['keywords_detected'] ]\n",
    "    }\n",
    "    write_to_table(conversation_data)\n",
    "    time.sleep(10)"
   ]
  }
 ],
 "metadata": {
  "kernelspec": {
   "display_name": "Python 3 (ipykernel)",
   "language": "python",
   "name": "python3"
  },
  "language_info": {
   "codemirror_mode": {
    "name": "ipython",
    "version": 3
   },
   "file_extension": ".py",
   "mimetype": "text/x-python",
   "name": "python",
   "nbconvert_exporter": "python",
   "pygments_lexer": "ipython3",
   "version": "3.12.3"
  }
 },
 "nbformat": 4,
 "nbformat_minor": 5
}
